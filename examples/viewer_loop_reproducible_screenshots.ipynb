{
 "cells": [
  {
   "cell_type": "code",
   "execution_count": null,
   "metadata": {},
   "outputs": [],
   "source": [
    "import napari\n",
    "napari.__version__"
   ]
  },
  {
   "cell_type": "code",
   "execution_count": null,
   "metadata": {},
   "outputs": [],
   "source": [
    "#header: imports and define viewer layout\n",
    "from napari.settings import get_settings\n",
    "import time\n",
    "import napari\n",
    "from napari._qt.qthreading import thread_worker\n",
    "from skimage import data\n",
    "from skimage.morphology import ball, octahedron\n",
    "import matplotlib.pyplot as plt\n",
    "\n",
    "\n",
    "def make_screenshot(viewer):\n",
    "    img = viewer.screenshot(canvas_only=True, flash=False)\n",
    "    plt.imshow(img)\n",
    "    plt.axis(\"off\")\n",
    "    plt.show()\n",
    "\n",
    "\n",
    "get_settings().application.window_position = (600, 600)\n",
    "viewer = napari.Viewer()\n",
    "viewer.window.resize(900, 600)\n",
    "\n",
    "viewer.theme = \"light\"\n",
    "viewer.dims.ndisplay = 3\n",
    "viewer.axes.visible = True\n",
    "viewer.axes.colored = False\n",
    "viewer.axes.labels = False\n",
    "viewer.text_overlay.visible = True\n",
    "viewer.text_overlay.text = \"Hello World!\"\n"
   ]
  },
  {
   "cell_type": "code",
   "execution_count": null,
   "metadata": {},
   "outputs": [],
   "source": [
    "# define data and update loop \n",
    "myblob = data.binary_blobs(\n",
    "    length=200, volume_fraction=0.1, blob_size_fraction=0.3, n_dim=3, seed=42\n",
    ")\n",
    "myoctahedron = octahedron(100)\n",
    "myball = ball(100)\n",
    "\n",
    "files = {\n",
    "    \"blob\": myblob,\n",
    "    \"ball\": myball,\n",
    "    \"octahedron\": myoctahedron,\n",
    "}\n",
    "\n",
    "viewer.add_labels(myball, name=\"result\")\n",
    "viewer.camera.angles = (19, -33, -121)\n",
    "viewer.camera.zoom = 1.3\n",
    "\n",
    "\n",
    "@thread_worker\n",
    "def loop_run():\n",
    "    for key in files:\n",
    "        time.sleep(0.5)\n",
    "        image = files[key]\n",
    "        yield (image, key)\n",
    "\n",
    "\n",
    "def update_layer(image_text_tuple):\n",
    "    image, text = image_text_tuple\n",
    "    viewer.layers[\"result\"].data = image\n",
    "    viewer.layers[\"result\"].opacity = 1\n",
    "    viewer.text_overlay.text = text\n",
    "    make_screenshot(viewer)\n"
   ]
  },
  {
   "cell_type": "code",
   "execution_count": null,
   "metadata": {},
   "outputs": [],
   "source": [
    "# start loop\n",
    "worker = loop_run()\n",
    "worker.yielded.connect(update_layer)\n",
    "worker.start()"
   ]
  },
  {
   "cell_type": "code",
   "execution_count": null,
   "metadata": {},
   "outputs": [],
   "source": []
  }
 ],
 "metadata": {
  "kernelspec": {
   "display_name": "Python 3 (ipykernel)",
   "language": "python",
   "name": "python3"
  },
  "language_info": {
   "codemirror_mode": {
    "name": "ipython",
    "version": 3
   },
   "file_extension": ".py",
   "mimetype": "text/x-python",
   "name": "python",
   "nbconvert_exporter": "python",
   "pygments_lexer": "ipython3",
   "version": "3.9.11"
  }
 },
 "nbformat": 4,
 "nbformat_minor": 4
}
